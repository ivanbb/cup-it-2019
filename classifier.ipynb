{
 "cells": [
  {
   "cell_type": "markdown",
   "metadata": {},
   "source": [
    "Скрипт для классификации отзывов по продуктам, к которым они относятся."
   ]
  },
  {
   "cell_type": "code",
   "execution_count": 3,
   "metadata": {
    "_cell_guid": "79c7e3d0-c299-4dcb-8224-4455121ee9b0",
    "_uuid": "d629ff2d2480ee46fbb7e2d37f6b5fab8052498a"
   },
   "outputs": [],
   "source": [
    "import pandas as pd\n",
    "import numpy as np\n",
    "from sklearn.feature_extraction.text import TfidfVectorizer\n",
    "from sklearn.preprocessing import OneHotEncoder\n",
    "from sklearn.cluster import KMeans"
   ]
  },
  {
   "cell_type": "code",
   "execution_count": 4,
   "metadata": {
    "_uuid": "287529eb064916115d1dd466e56fed22a17ca72f"
   },
   "outputs": [
    {
     "data": {
      "text/html": [
       "<div>\n",
       "<style scoped>\n",
       "    .dataframe tbody tr th:only-of-type {\n",
       "        vertical-align: middle;\n",
       "    }\n",
       "\n",
       "    .dataframe tbody tr th {\n",
       "        vertical-align: top;\n",
       "    }\n",
       "\n",
       "    .dataframe thead th {\n",
       "        text-align: right;\n",
       "    }\n",
       "</style>\n",
       "<table border=\"1\" class=\"dataframe\">\n",
       "  <thead>\n",
       "    <tr style=\"text-align: right;\">\n",
       "      <th></th>\n",
       "      <th>Unnamed: 0</th>\n",
       "      <th>type</th>\n",
       "      <th>title</th>\n",
       "      <th>text</th>\n",
       "    </tr>\n",
       "  </thead>\n",
       "  <tbody>\n",
       "    <tr>\n",
       "      <th>0</th>\n",
       "      <td>0</td>\n",
       "      <td>Кредит</td>\n",
       "      <td>Просьба об отмене штрафа КАСКО</td>\n",
       "      <td>Здравствуйте! 10.06.2016г. мною был заключен д...</td>\n",
       "    </tr>\n",
       "    <tr>\n",
       "      <th>1</th>\n",
       "      <td>1</td>\n",
       "      <td>Ипотека</td>\n",
       "      <td>В целом хорошо, работали по ипотеке.</td>\n",
       "      <td>Брала  ипотеку в юникоре, порадовали квалифика...</td>\n",
       "    </tr>\n",
       "    <tr>\n",
       "      <th>2</th>\n",
       "      <td>2</td>\n",
       "      <td>Реструктуризация</td>\n",
       "      <td>Нас всегда выручает банк Уралсиб!</td>\n",
       "      <td>Знакомство с банком началось с ипотеки в 2009 ...</td>\n",
       "    </tr>\n",
       "    <tr>\n",
       "      <th>3</th>\n",
       "      <td>3</td>\n",
       "      <td>Вклад</td>\n",
       "      <td>Абсолютно неприемлемая ситуация и ее решение</td>\n",
       "      <td>Клиент Совкомбанка с 2017 года. В феврале 2018...</td>\n",
       "    </tr>\n",
       "    <tr>\n",
       "      <th>4</th>\n",
       "      <td>4</td>\n",
       "      <td>Кредит</td>\n",
       "      <td>Внёс не туда</td>\n",
       "      <td>Пришёл оплачивать кредит и ошибочно внёс деньг...</td>\n",
       "    </tr>\n",
       "  </tbody>\n",
       "</table>\n",
       "</div>"
      ],
      "text/plain": [
       "   Unnamed: 0              type                                         title  \\\n",
       "0           0            Кредит                Просьба об отмене штрафа КАСКО   \n",
       "1           1           Ипотека          В целом хорошо, работали по ипотеке.   \n",
       "2           2  Реструктуризация             Нас всегда выручает банк Уралсиб!   \n",
       "3           3             Вклад  Абсолютно неприемлемая ситуация и ее решение   \n",
       "4           4            Кредит                                  Внёс не туда   \n",
       "\n",
       "                                                text  \n",
       "0  Здравствуйте! 10.06.2016г. мною был заключен д...  \n",
       "1  Брала  ипотеку в юникоре, порадовали квалифика...  \n",
       "2  Знакомство с банком началось с ипотеки в 2009 ...  \n",
       "3  Клиент Совкомбанка с 2017 года. В феврале 2018...  \n",
       "4  Пришёл оплачивать кредит и ошибочно внёс деньг...  "
      ]
     },
     "execution_count": 4,
     "metadata": {},
     "output_type": "execute_result"
    }
   ],
   "source": [
    "df = pd.read_csv('data/class/train_data.csv')\n",
    "df.head()"
   ]
  },
  {
   "cell_type": "code",
   "execution_count": 5,
   "metadata": {
    "_uuid": "1958f07eeb1d1fcdf2cd80aa90629e6202321a24"
   },
   "outputs": [],
   "source": [
    "df['type'] = df['type'].map({'Ипотека': 0, 'Кредит': 1, 'Реструктуризация': 2, 'Вклад': 3,\n",
    "                             'Дебетовая карта': 4, 'Обслуживание физ. и юр. лиц': 5,\n",
    "                             'Денежные переводы':6, 'Бизнес услуги': 7, 'Инвестиционные продукты': 8})"
   ]
  },
  {
   "cell_type": "markdown",
   "metadata": {},
   "source": [
    "Для повышения точности модели, к предикторам были добавлены заголовки отзывов."
   ]
  },
  {
   "cell_type": "code",
   "execution_count": null,
   "metadata": {
    "_uuid": "aead5b97e6211971c57ce889d70a1f4376685866"
   },
   "outputs": [],
   "source": [
    "X,Y = ([x1+\" \"+x2 for (x1, x2) in zip(df['title'], df['text'])], df['type'])"
   ]
  },
  {
   "cell_type": "code",
   "execution_count": null,
   "metadata": {
    "_uuid": "cc0ad0a439d6b318c0d70c3bfed53676df7024a2"
   },
   "outputs": [],
   "source": [
    "x_train = X[:8000]\n",
    "x_test = X[8000:]\n",
    "y_train = Y[:8000]\n",
    "y_test = Y[8000:]"
   ]
  },
  {
   "cell_type": "markdown",
   "metadata": {},
   "source": [
    "Наилучшие результаты получились на данных, обработанных TF-IDF векторайзером без предварительной предобработки текстов."
   ]
  },
  {
   "cell_type": "code",
   "execution_count": null,
   "metadata": {
    "_uuid": "c240a74b66ff83dcc5491f220772d6f72c29a056"
   },
   "outputs": [],
   "source": [
    "tv = TfidfVectorizer()\n",
    "tv.fit(x_train)"
   ]
  },
  {
   "cell_type": "code",
   "execution_count": null,
   "metadata": {
    "_uuid": "02bdb800e930cf7405644a80eaa0d821a216bcc7"
   },
   "outputs": [],
   "source": [
    "X_train = tv.transform(x_train)\n",
    "X_test = tv.transform(x_test)"
   ]
  },
  {
   "cell_type": "markdown",
   "metadata": {},
   "source": [
    "Определяем модели. Лучший результат получился на бэггинге логистических регрессий."
   ]
  },
  {
   "cell_type": "code",
   "execution_count": null,
   "metadata": {},
   "outputs": [],
   "source": [
    "from sklearn.linear_model import SGDClassifier\n",
    "sgd = SGDClassifier(alpha=0.00003, random_state=10, class_weight='balanced', penalty='l1', loss='log')"
   ]
  },
  {
   "cell_type": "code",
   "execution_count": null,
   "metadata": {
    "_uuid": "9e392e577d1e49b2dd0f694c23b6b576ef29de64"
   },
   "outputs": [],
   "source": [
    "from sklearn.ensemble import BaggingClassifier\n",
    "bsg = BaggingClassifier(sgd, n_jobs=-1, n_estimators=200, random_state=67)\n",
    "bsg.fit(X_train, y_train)"
   ]
  },
  {
   "cell_type": "code",
   "execution_count": null,
   "metadata": {
    "_uuid": "6f3a8c4b40fe4609189a6cb6507c272ec0cf8cb6"
   },
   "outputs": [],
   "source": [
    "print('Acc train: ',bsg.score(X_train, y_train),\" Acc test: \", bsg.score(X_test, y_test))"
   ]
  },
  {
   "cell_type": "code",
   "execution_count": null,
   "metadata": {},
   "outputs": [],
   "source": [
    "import pickle\n",
    "with open('tv.pickle', 'wb') as f:\n",
    "    \"\"\"Выгружаем токинайзер\"\"\"\n",
    "    pickle.dump(tv, f)"
   ]
  },
  {
   "cell_type": "code",
   "execution_count": null,
   "metadata": {},
   "outputs": [],
   "source": [
    "import pickle\n",
    "with open('bsg.pickle', 'wb') as f:\n",
    "    \"\"\"Выгружаем модель\"\"\"\n",
    "    pickle.dump(bsg, f)"
   ]
  },
  {
   "cell_type": "markdown",
   "metadata": {},
   "source": [
    "Загружаем тестовую выборку и делаем предсказания"
   ]
  },
  {
   "cell_type": "code",
   "execution_count": null,
   "metadata": {
    "_uuid": "e2ce1235dfcbd7912e213cbecb7d1747c499f2da"
   },
   "outputs": [],
   "source": [
    "df_test = pd.read_csv('data/class/test_data.csv')\n",
    "x_test = [x1+\" \"+x2 for (x1, x2) in zip(df_test['title'], df_test['text'])]"
   ]
  },
  {
   "cell_type": "code",
   "execution_count": null,
   "metadata": {},
   "outputs": [],
   "source": [
    "X_test = tv.transform(x_test)\n",
    "predicts = bsg.predict(X_test)"
   ]
  },
  {
   "cell_type": "code",
   "execution_count": null,
   "metadata": {},
   "outputs": [],
   "source": [
    "predicts = pd.Series(predicts)"
   ]
  },
  {
   "cell_type": "code",
   "execution_count": null,
   "metadata": {},
   "outputs": [],
   "source": [
    "predicts = predicts.map({0: 'Ипотека', 1: 'Кредит', 2: 'Реструктуризация', \n",
    "                         3: 'Вклад', 4:'Дебетовая карта', 5:'Обслуживание физ. и юр. лиц',\n",
    "                         6:'Денежные переводы', 7:'Бизнес услуги', 8: 'Инвестиционные продукты'})"
   ]
  },
  {
   "cell_type": "code",
   "execution_count": null,
   "metadata": {},
   "outputs": [],
   "source": [
    "sub = pd.DataFrame({'index': range(0, len(predicts)),\n",
    "                    'type':predicts})\n",
    "sub.to_csv('ranking_answer_class.csv', index=False)"
   ]
  }
 ],
 "metadata": {
  "kernelspec": {
   "display_name": "Python 3",
   "language": "python",
   "name": "python3"
  },
  "language_info": {
   "codemirror_mode": {
    "name": "ipython",
    "version": 3
   },
   "file_extension": ".py",
   "mimetype": "text/x-python",
   "name": "python",
   "nbconvert_exporter": "python",
   "pygments_lexer": "ipython3",
   "version": "3.6.8"
  }
 },
 "nbformat": 4,
 "nbformat_minor": 1
}
