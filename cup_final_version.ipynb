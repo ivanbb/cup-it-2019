{
 "cells": [
  {
   "cell_type": "code",
   "execution_count": 6,
   "metadata": {},
   "outputs": [],
   "source": [
    "import pandas as pd\n",
    "import numpy as np\n",
    "from sklearn.feature_extraction.text import TfidfVectorizer\n",
    "from sklearn.preprocessing import OneHotEncoder\n",
    "from sklearn.linear_model import LogisticRegression\n",
    "import pickle"
   ]
  },
  {
   "cell_type": "code",
   "execution_count": 2,
   "metadata": {},
   "outputs": [
    {
     "name": "stderr",
     "output_type": "stream",
     "text": [
      "Using TensorFlow backend.\n"
     ]
    }
   ],
   "source": [
    "from keras.layers.core import Dense, Dropout\n",
    "from keras.models import Sequential\n",
    "from keras.optimizers import nadam\n",
    "from keras.layers.advanced_activations import LeakyReLU\n",
    "from keras.activations import softmax\n",
    "from keras.regularizers import l2"
   ]
  },
  {
   "cell_type": "code",
   "execution_count": 59,
   "metadata": {},
   "outputs": [],
   "source": [
    "path = './'"
   ]
  },
  {
   "cell_type": "markdown",
   "metadata": {},
   "source": [
    "В качестве предиктора используется текст отзыва с его заголовком, для класcификации используется беггинг логистической регрессии, ранжирование проводит нейронная сеть."
   ]
  },
  {
   "cell_type": "code",
   "execution_count": 63,
   "metadata": {},
   "outputs": [],
   "source": [
    "try:\n",
    "    df_test = pd.read_csv('./data_test.csv')\n",
    "except:\n",
    "    df_test = pd.read_csv('/data_test.csv')\n",
    "    path = '/'\n",
    "x_test = [x1+\" \"+x2 for (x1, x2) in zip(df_test['title'], df_test['text'])]"
   ]
  },
  {
   "cell_type": "code",
   "execution_count": 43,
   "metadata": {},
   "outputs": [],
   "source": [
    "with open('tvc.pickle', 'rb') as f:\n",
    "    \"\"\"загружаем токинайзер для классификации\"\"\"\n",
    "    tvс = pickle.load(f)\n",
    "with open('tvr.pickle', 'rb') as f:\n",
    "    \"\"\"загружаем токинайзер для ранжироваания\"\"\"\n",
    "    tvr = pickle.load(f)\n",
    "with open('logit.pickle', 'rb') as f:\n",
    "    \"\"\"загружаем регрессию\"\"\"\n",
    "    logit = pickle.load(f)"
   ]
  },
  {
   "cell_type": "code",
   "execution_count": 46,
   "metadata": {},
   "outputs": [],
   "source": [
    "X_test_c = tvс.transform(x_test)\n",
    "X_test_r = tvr.transform(x_test)"
   ]
  },
  {
   "cell_type": "code",
   "execution_count": 47,
   "metadata": {},
   "outputs": [],
   "source": [
    "class_predicts = logit.predict(X_test_c)\n",
    "class_predicts = pd.Series(class_predicts)\n",
    "class_predicts =class_predicts.map({0: 'Ипотека', 1: 'Кредит', 2:'Реструктуризация', 3:'Вклад', 4:'Дебетовая карта', 5:'Обслуживание физ. и юр. лиц',  6:'Денежные переводы', 7:'Бизнес услуги', 8: 'Инвестиционные продукты'})"
   ]
  },
  {
   "cell_type": "code",
   "execution_count": 51,
   "metadata": {},
   "outputs": [],
   "source": [
    "\"\"\"Создаем модель нейронной сети и загружаем обученные веса\"\"\"\n",
    "input_shape = np.shape(X_test_r)[1]\n",
    "model = Sequential()\n",
    "model.add(Dense(4, input_shape=(input_shape,)))\n",
    "model.add(LeakyReLU())\n",
    "model.add(Dropout(0.6))\n",
    "\n",
    "model.add(Dense(4, kernel_regularizer=l2(0.05)))\n",
    "model.add(LeakyReLU())\n",
    "model.add(Dropout(0.5))\n",
    "\n",
    "model.add(Dense(2, activation='softmax'))\n",
    "model.load_weights('weightst_best.h5')"
   ]
  },
  {
   "cell_type": "code",
   "execution_count": 52,
   "metadata": {},
   "outputs": [],
   "source": [
    "\"\"\"Берем предсказанный процент негативности\"\"\"\n",
    "posneg_predicts = model.predict(X_test_r)[:,1]"
   ]
  },
  {
   "cell_type": "code",
   "execution_count": 61,
   "metadata": {},
   "outputs": [],
   "source": [
    "\"\"\"Записываем результаты в csv\"\"\"\n",
    "sub = pd.DataFrame({'index': range(0, len(class_predicts)),\n",
    "                    'score':class_predicts})\n",
    "sub.to_csv(path+'class_answer.csv', index=False)\n",
    "sub = pd.DataFrame({'index': range(0, len(posneg_predicts)),\n",
    "                    'type':posneg_predicts})\n",
    "sub.to_csv(path+'ranking_answer.csv', index=False)"
   ]
  },
  {
   "cell_type": "code",
   "execution_count": null,
   "metadata": {},
   "outputs": [],
   "source": []
  }
 ],
 "metadata": {
  "kernelspec": {
   "display_name": "Python 3",
   "language": "python",
   "name": "python3"
  },
  "language_info": {
   "codemirror_mode": {
    "name": "ipython",
    "version": 3
   },
   "file_extension": ".py",
   "mimetype": "text/x-python",
   "name": "python",
   "nbconvert_exporter": "python",
   "pygments_lexer": "ipython3",
   "version": "3.6.8"
  }
 },
 "nbformat": 4,
 "nbformat_minor": 2
}
