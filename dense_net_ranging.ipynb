{
 "cells": [
  {
   "cell_type": "markdown",
   "metadata": {},
   "source": [
    "Скрипт для ранжирования отзывов по степени негативности. Ранжирование основано на классификация отзывов на позитивные и негативные и использует вероятность принадлежности отзыва к негативному классу."
   ]
  },
  {
   "cell_type": "code",
   "execution_count": null,
   "metadata": {},
   "outputs": [],
   "source": [
    "from keras.layers.core import Dense, Dropout\n",
    "from keras.models import Sequential\n",
    "from keras.optimizers import nadam\n",
    "from keras.layers.advanced_activations import LeakyReLU\n",
    "from keras.activations import softmax\n",
    "from keras.regularizers import l2\n",
    "from keras.callbacks import ModelCheckpoint\n",
    "import tensorflow as tf"
   ]
  },
  {
   "cell_type": "code",
   "execution_count": 3,
   "metadata": {},
   "outputs": [],
   "source": [
    "import pandas as pd\n",
    "import numpy as np\n",
    "from sklearn.feature_extraction.text import TfidfVectorizer\n",
    "from sklearn.preprocessing import OneHotEncoder"
   ]
  },
  {
   "cell_type": "code",
   "execution_count": 4,
   "metadata": {},
   "outputs": [
    {
     "data": {
      "text/html": [
       "<div>\n",
       "<style scoped>\n",
       "    .dataframe tbody tr th:only-of-type {\n",
       "        vertical-align: middle;\n",
       "    }\n",
       "\n",
       "    .dataframe tbody tr th {\n",
       "        vertical-align: top;\n",
       "    }\n",
       "\n",
       "    .dataframe thead th {\n",
       "        text-align: right;\n",
       "    }\n",
       "</style>\n",
       "<table border=\"1\" class=\"dataframe\">\n",
       "  <thead>\n",
       "    <tr style=\"text-align: right;\">\n",
       "      <th></th>\n",
       "      <th>Unnamed: 0</th>\n",
       "      <th>title</th>\n",
       "      <th>text</th>\n",
       "      <th>score</th>\n",
       "    </tr>\n",
       "  </thead>\n",
       "  <tbody>\n",
       "    <tr>\n",
       "      <th>0</th>\n",
       "      <td>0</td>\n",
       "      <td>Просьба об отмене штрафа КАСКО</td>\n",
       "      <td>Здравствуйте! 10.06.2016г. мною был заключен д...</td>\n",
       "      <td>0</td>\n",
       "    </tr>\n",
       "    <tr>\n",
       "      <th>1</th>\n",
       "      <td>1</td>\n",
       "      <td>В целом хорошо, работали по ипотеке.</td>\n",
       "      <td>Брала  ипотеку в юникоре, порадовали квалифика...</td>\n",
       "      <td>1</td>\n",
       "    </tr>\n",
       "    <tr>\n",
       "      <th>2</th>\n",
       "      <td>2</td>\n",
       "      <td>Нас всегда выручает банк Уралсиб!</td>\n",
       "      <td>Знакомство с банком началось с ипотеки в 2009 ...</td>\n",
       "      <td>0</td>\n",
       "    </tr>\n",
       "    <tr>\n",
       "      <th>3</th>\n",
       "      <td>3</td>\n",
       "      <td>Абсолютно неприемлемая ситуация и ее решение</td>\n",
       "      <td>Клиент Совкомбанка с 2017 года. В феврале 2018...</td>\n",
       "      <td>0</td>\n",
       "    </tr>\n",
       "    <tr>\n",
       "      <th>4</th>\n",
       "      <td>4</td>\n",
       "      <td>Внёс не туда</td>\n",
       "      <td>Пришёл оплачивать кредит и ошибочно внёс деньг...</td>\n",
       "      <td>0</td>\n",
       "    </tr>\n",
       "  </tbody>\n",
       "</table>\n",
       "</div>"
      ],
      "text/plain": [
       "   Unnamed: 0                                         title  \\\n",
       "0           0                Просьба об отмене штрафа КАСКО   \n",
       "1           1          В целом хорошо, работали по ипотеке.   \n",
       "2           2             Нас всегда выручает банк Уралсиб!   \n",
       "3           3  Абсолютно неприемлемая ситуация и ее решение   \n",
       "4           4                                  Внёс не туда   \n",
       "\n",
       "                                                text  score  \n",
       "0  Здравствуйте! 10.06.2016г. мною был заключен д...      0  \n",
       "1  Брала  ипотеку в юникоре, порадовали квалифика...      1  \n",
       "2  Знакомство с банком началось с ипотеки в 2009 ...      0  \n",
       "3  Клиент Совкомбанка с 2017 года. В феврале 2018...      0  \n",
       "4  Пришёл оплачивать кредит и ошибочно внёс деньг...      0  "
      ]
     },
     "execution_count": 4,
     "metadata": {},
     "output_type": "execute_result"
    }
   ],
   "source": [
    "df = pd.read_csv('data/range/train_data.csv')\n",
    "df.loc[df[\"score\"] == 'Негативный', 'score'] = 1\n",
    "df.loc[df[\"score\"] == 'Позитивный', 'score'] = 0\n",
    "\n",
    "\"\"\"\n",
    "Для повышения точности модели, к предикторам были добавлены заголовки отзывов.\n",
    "\"\"\"\n",
    "\n",
    "X,Y = ([x1+\" \"+x2 for (x1, x2) in zip(df['title'], df['text'])], df['score'])\n",
    "df.head()"
   ]
  },
  {
   "cell_type": "code",
   "execution_count": 121,
   "metadata": {},
   "outputs": [],
   "source": [
    "x_train = X[:9000]\n",
    "x_test = X[9000:]\n",
    "y_train = Y[:9000]\n",
    "y_test = Y[9000:]"
   ]
  },
  {
   "cell_type": "markdown",
   "metadata": {},
   "source": [
    "Наилучшие результаты получились на данных, обработанных TF-IDF векторайзером без предварительной предобработки."
   ]
  },
  {
   "cell_type": "code",
   "execution_count": 122,
   "metadata": {},
   "outputs": [
    {
     "data": {
      "text/plain": [
       "TfidfVectorizer(analyzer='word', binary=False, decode_error='strict',\n",
       "        dtype=<class 'numpy.float64'>, encoding='utf-8', input='content',\n",
       "        lowercase=True, max_df=1.0, max_features=None, min_df=1,\n",
       "        ngram_range=(1, 1), norm='l2', preprocessor=None, smooth_idf=True,\n",
       "        stop_words=None, strip_accents=None, sublinear_tf=False,\n",
       "        token_pattern='(?u)\\\\b\\\\w\\\\w+\\\\b', tokenizer=None, use_idf=True,\n",
       "        vocabulary=None)"
      ]
     },
     "execution_count": 122,
     "metadata": {},
     "output_type": "execute_result"
    }
   ],
   "source": [
    "tv = TfidfVectorizer()\n",
    "tv.fit(x_train)"
   ]
  },
  {
   "cell_type": "code",
   "execution_count": 123,
   "metadata": {},
   "outputs": [],
   "source": [
    "import pickle\n",
    "with open('tvr.pickle', 'wb') as f:\n",
    "    \"\"\"Сохраняем токинайзер\"\"\"\n",
    "    pickle.dump(tv, f)"
   ]
  },
  {
   "cell_type": "code",
   "execution_count": null,
   "metadata": {},
   "outputs": [],
   "source": [
    "X_train = tv.transform(x_train)\n",
    "X_test = tv.transform(x_test)\n",
    "\n",
    "onehot = OneHotEncoder(sparse=False)\n",
    "\n",
    "Y_test = np.reshape(np.array(y_test), (-1,1))\n",
    "Y_test =onehot.fit_transform(Y_test)\n",
    "\n",
    "Y_train = np.reshape(np.array(y_train), (-1,1))\n",
    "Y_train =onehot.fit_transform(Y_train)"
   ]
  },
  {
   "cell_type": "markdown",
   "metadata": {},
   "source": [
    "Определяем модель. Многослойный перцептрон показал наилучший результат из всех опробованных моделей."
   ]
  },
  {
   "cell_type": "code",
   "execution_count": 145,
   "metadata": {},
   "outputs": [],
   "source": [
    "input_shape = np.shape(X_train)[1]\n",
    "\n",
    "model = Sequential()\n",
    "\n",
    "model.add(Dense(4, input_shape=(input_shape,)))\n",
    "model.add(LeakyReLU())\n",
    "model.add(Dropout(0.6))\n",
    "\n",
    "model.add(Dense(4, kernel_regularizer=l2(0.05)))\n",
    "model.add(LeakyReLU())\n",
    "model.add(Dropout(0.5))\n",
    "\n",
    "model.add(Dense(2, activation='softmax'))"
   ]
  },
  {
   "cell_type": "code",
   "execution_count": 146,
   "metadata": {},
   "outputs": [],
   "source": [
    "checkpointer = ModelCheckpoint(filepath=\"weight.h5\", monitor='val_acc', verbose=1, save_best_only=True, save_weights_only=True)\n",
    "opt=nadam(lr=0.00009)\n",
    "model.compile(optimizer=opt,\n",
    "              loss='categorical_crossentropy',\n",
    "              metrics=['accuracy'])"
   ]
  },
  {
   "cell_type": "code",
   "execution_count": null,
   "metadata": {},
   "outputs": [],
   "source": [
    "history = model.fit(X_train, Y_train, validation_data=(X_test, Y_test), epochs=100, batch_size=32, verbose=1, callbacks=[checkpointer])"
   ]
  },
  {
   "cell_type": "code",
   "execution_count": null,
   "metadata": {},
   "outputs": [],
   "source": [
    "plt.figure()\n",
    "plt.plot(history.history['loss'])\n",
    "plt.plot(history.history['val_loss'])\n",
    "plt.title('model loss')\n",
    "plt.ylabel('loss')\n",
    "plt.xlabel('epoch')\n",
    "plt.legend(['train', 'test'], loc='best')\n",
    "plt.show()\n",
    "\n",
    "plt.figure()\n",
    "plt.plot(history.history['acc'])\n",
    "plt.plot(history.history['val_acc'])\n",
    "plt.title('model accuracy')\n",
    "plt.ylabel('accuracy')\n",
    "plt.xlabel('epoch')\n",
    "plt.legend(['train', 'test'], loc='best')\n",
    "plt.show()"
   ]
  },
  {
   "cell_type": "code",
   "execution_count": 137,
   "metadata": {},
   "outputs": [
    {
     "data": {
      "image/png": "[encoded data removed]",
      "text/plain": [
       "<Figure size 720x576 with 1 Axes>"
      ]
     },
     "metadata": {},
     "output_type": "display_data"
    },
    {
     "name": "stdout",
     "output_type": "stream",
     "text": [
      "0.933517021195174\n"
     ]
    }
   ],
   "source": [
    "from sklearn.metrics import precision_recall_curve, classification_report, roc_curve, roc_auc_score,auc\n",
    "import seaborn as sns\n",
    "import matplotlib.pyplot as plt\n",
    "sns.set(font_scale=1.5)\n",
    "sns.set_color_codes(\"muted\")\n",
    "\n",
    "plt.figure(figsize=(10, 8))\n",
    "fpr, tpr, thresholds = roc_curve(y_test, model.predict(X_test)[:,1], pos_label=1)\n",
    "lw = 2\n",
    "plt.plot(fpr, tpr, lw=lw, label='ROC curve ')\n",
    "plt.plot([0, 1], [0, 1])\n",
    "plt.xlim([0.0, 1.0])\n",
    "plt.ylim([0.0, 1.05])\n",
    "plt.xlabel('False Positive Rate')\n",
    "plt.ylabel('True Positive Rate')\n",
    "plt.title('ROC curve')\n",
    "plt.savefig(\"ROC.png\")\n",
    "plt.show()\n",
    "print(roc_auc_score(y_test, model.predict(X_test)[:,1]))"
   ]
  },
  {
   "cell_type": "markdown",
   "metadata": {},
   "source": [
    "Загружаем тестовую выборку и делаем предсказания"
   ]
  },
  {
   "cell_type": "code",
   "execution_count": 117,
   "metadata": {},
   "outputs": [],
   "source": [
    "df_test = pd.read_csv('data/range/test_data.csv')\n",
    "x_test = [x1+\" \"+x2 for (x1, x2) in zip(df_test['title'], df_test['text'])]"
   ]
  },
  {
   "cell_type": "code",
   "execution_count": 118,
   "metadata": {},
   "outputs": [],
   "source": [
    "X_test = tv.transform(x_test)\n",
    "predicts = model.predict(X_test)[:,1]"
   ]
  },
  {
   "cell_type": "code",
   "execution_count": 119,
   "metadata": {},
   "outputs": [],
   "source": [
    "sub = pd.DataFrame({'index': range(0, len(predicts)),\n",
    "                    'score':predicts})\n",
    "sub.to_csv('ranking_answer.csv', index=False)"
   ]
  }
 ],
 "metadata": {
  "kernelspec": {
   "display_name": "Python 3",
   "language": "python",
   "name": "python3"
  },
  "language_info": {
   "codemirror_mode": {
    "name": "ipython",
    "version": 3
   },
   "file_extension": ".py",
   "mimetype": "text/x-python",
   "name": "python",
   "nbconvert_exporter": "python",
   "pygments_lexer": "ipython3",
   "version": "3.6.8"
  }
 },
 "nbformat": 4,
 "nbformat_minor": 2
}
